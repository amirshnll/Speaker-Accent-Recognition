{
 "cells": [
  {
   "cell_type": "code",
   "execution_count": null,
   "metadata": {},
   "outputs": [],
   "source": [
    "# Author : Amir Shokri\n",
    "# github link : https://github.com/amirshnll/Speaker-Accent-Recognition\n",
    "# dataset link : http://archive.ics.uci.edu/ml/datasets/Speaker+Accent+Recognition\n",
    "# email : amirsh.nll@gmail.com"
   ]
  },
  {
   "cell_type": "code",
   "execution_count": 2,
   "metadata": {},
   "outputs": [
    {
     "name": "stdout",
     "output_type": "stream",
     "text": [
      "========== Test Features ============\n",
      "            X1        X2         X3         X4         X5         X6  \\\n",
      "226   1.098864 -7.452423  17.066487  -7.314831   7.912809   0.381224   \n",
      "302   5.077564 -5.482133   0.312714   9.662788  -6.881830  10.850248   \n",
      "262  12.393615 -1.629321   1.030436  13.814292 -13.538767   5.814917   \n",
      "180   5.178245 -5.049401   5.980721  10.562531  -8.000220  10.340584   \n",
      "73    5.818891 -2.479246   2.087605   3.911587  -6.988192  10.437128   \n",
      "..         ...       ...        ...        ...        ...        ...   \n",
      "17   11.263467 -6.017982  -0.726262  11.959800  -5.667235  12.318475   \n",
      "323  -2.112733 -0.038945   1.173896   1.263632   4.817348   7.840459   \n",
      "320  -1.681729 -0.506247   2.135516   3.323995   1.080134   5.517213   \n",
      "250   1.876146 -4.790968   7.706085   3.479158   4.455274   2.352220   \n",
      "301   2.716551  1.924691  -0.823819   7.053833  -8.095601   9.130186   \n",
      "\n",
      "            X7         X8         X9       X10       X11       X12  \n",
      "226  -5.617393   4.760422  -6.236367  7.896138 -9.279833  2.446148  \n",
      "302  -8.664004   3.954595   1.612046 -3.166349  3.555526 -0.250759  \n",
      "262  -5.055264   5.678110   0.795078 -3.778278  5.177990 -2.107121  \n",
      "180 -11.530766   5.072530   2.297954 -2.365443  4.622242 -5.539080  \n",
      "73  -13.755028   5.922611   0.714205 -1.518099  4.627938 -8.775748  \n",
      "..         ...        ...        ...       ...       ...       ...  \n",
      "17   -7.892121   4.131175  -0.672802 -9.215645  4.770874 -0.822530  \n",
      "323  -5.706838  12.285721 -11.632070  5.828790  1.643920 -4.657571  \n",
      "320  -6.737507  11.604854  -8.730315  6.715250  0.138771 -2.159513  \n",
      "250  -7.040896   8.803352  -7.426813  6.982098 -3.748971  0.229070  \n",
      "301  -8.618479   6.624026  -0.358459 -3.002655  3.008224 -2.971277  \n",
      "\n",
      "[66 rows x 12 columns]\n",
      "============ Predicted Values ===========\n",
      "['US' 'US' 'US' 'US' 'GE' 'US' 'GE' 'ES' 'US' 'US' 'US' 'US' 'US' 'ES'\n",
      " 'US' 'US' 'UK' 'US' 'US' 'US' 'GE' 'US' 'US' 'IT' 'US' 'UK' 'GE' 'FR'\n",
      " 'UK' 'IT' 'US' 'US' 'US' 'US' 'US' 'UK' 'US' 'IT' 'GE' 'US' 'US' 'US'\n",
      " 'UK' 'UK' 'US' 'US' 'US' 'IT' 'FR' 'US' 'US' 'GE' 'US' 'US' 'GE' 'UK'\n",
      " 'IT' 'US' 'GE' 'ES' 'FR' 'ES' 'US' 'US' 'US' 'US']\n",
      "[[ 4  0  0  0  0  1]\n",
      " [ 0  2  0  0  0  1]\n",
      " [ 0  0  7  1  0  1]\n",
      " [ 0  1  0  4  0  2]\n",
      " [ 0  0  1  0  7  1]\n",
      " [ 0  0  0  0  0 33]]\n",
      "              precision    recall  f1-score   support\n",
      "\n",
      "          ES       1.00      0.80      0.89         5\n",
      "          FR       0.67      0.67      0.67         3\n",
      "          GE       0.88      0.78      0.82         9\n",
      "          IT       0.80      0.57      0.67         7\n",
      "          UK       1.00      0.78      0.88         9\n",
      "          US       0.85      1.00      0.92        33\n",
      "\n",
      "    accuracy                           0.86        66\n",
      "   macro avg       0.86      0.77      0.81        66\n",
      "weighted avg       0.87      0.86      0.86        66\n",
      "\n",
      "\n",
      "\n",
      "============================   Comparing Error rate with different k value ============================= \n",
      "\n",
      "\n"
     ]
    },
    {
     "name": "stderr",
     "output_type": "stream",
     "text": [
      "<ipython-input-2-f6e01fd88379>:29: DataConversionWarning: A column-vector y was passed when a 1d array was expected. Please change the shape of y to (n_samples, ), for example using ravel().\n",
      "  classifier.fit(x_train, y_train)\n",
      "<ipython-input-2-f6e01fd88379>:51: DataConversionWarning: A column-vector y was passed when a 1d array was expected. Please change the shape of y to (n_samples, ), for example using ravel().\n",
      "  knn.fit(x_train, y_train)\n",
      "<ipython-input-2-f6e01fd88379>:51: DataConversionWarning: A column-vector y was passed when a 1d array was expected. Please change the shape of y to (n_samples, ), for example using ravel().\n",
      "  knn.fit(x_train, y_train)\n",
      "<ipython-input-2-f6e01fd88379>:51: DataConversionWarning: A column-vector y was passed when a 1d array was expected. Please change the shape of y to (n_samples, ), for example using ravel().\n",
      "  knn.fit(x_train, y_train)\n",
      "<ipython-input-2-f6e01fd88379>:51: DataConversionWarning: A column-vector y was passed when a 1d array was expected. Please change the shape of y to (n_samples, ), for example using ravel().\n",
      "  knn.fit(x_train, y_train)\n",
      "<ipython-input-2-f6e01fd88379>:51: DataConversionWarning: A column-vector y was passed when a 1d array was expected. Please change the shape of y to (n_samples, ), for example using ravel().\n",
      "  knn.fit(x_train, y_train)\n",
      "<ipython-input-2-f6e01fd88379>:51: DataConversionWarning: A column-vector y was passed when a 1d array was expected. Please change the shape of y to (n_samples, ), for example using ravel().\n",
      "  knn.fit(x_train, y_train)\n",
      "<ipython-input-2-f6e01fd88379>:51: DataConversionWarning: A column-vector y was passed when a 1d array was expected. Please change the shape of y to (n_samples, ), for example using ravel().\n",
      "  knn.fit(x_train, y_train)\n",
      "<ipython-input-2-f6e01fd88379>:51: DataConversionWarning: A column-vector y was passed when a 1d array was expected. Please change the shape of y to (n_samples, ), for example using ravel().\n",
      "  knn.fit(x_train, y_train)\n",
      "<ipython-input-2-f6e01fd88379>:51: DataConversionWarning: A column-vector y was passed when a 1d array was expected. Please change the shape of y to (n_samples, ), for example using ravel().\n",
      "  knn.fit(x_train, y_train)\n"
     ]
    },
    {
     "data": {
      "text/plain": [
       "Text(0, 0.5, 'Mean Error')"
      ]
     },
     "execution_count": 2,
     "metadata": {},
     "output_type": "execute_result"
    },
    {
     "data": {
      "image/png": "[encoded data removed]",
      "text/plain": [
       "<Figure size 864x432 with 1 Axes>"
      ]
     },
     "metadata": {
      "needs_background": "light"
     },
     "output_type": "display_data"
    }
   ],
   "source": [
    "import numpy as np\n",
    "import matplotlib.pyplot as plt\n",
    "import pandas as pd\n",
    "from sklearn.model_selection import train_test_split\n",
    "from sklearn.preprocessing import StandardScaler\n",
    "from sklearn.neighbors import KNeighborsClassifier\n",
    "from sklearn.metrics import classification_report, confusion_matrix\n",
    "\n",
    "\n",
    "df = pd.read_csv('dataset.csv')\n",
    "\n",
    "\n",
    "x = df.iloc[:, 1:] # features data\n",
    "y = df.iloc[:, :1] # class data\n",
    "\n",
    "x_train, x_test, y_train, y_test = train_test_split(x, y, test_size=0.20)   # split train data and validation (test) data with test data including 20 percent of whole data\n",
    "\n",
    "\n",
    "# ========== (Begin) This block of code perform normalizing or scaling the features which is a good practice so that all of features can be uniformly evaluated\n",
    "# scaler = StandardScaler()\n",
    "# scaler.fit(x_train)\n",
    "\n",
    "# x_train = scaler.transform(x_train)\n",
    "# x_test = scaler.transform(x_test)\n",
    "\n",
    "# ========== (End)  Feature scaling\n",
    "\n",
    "classifier = KNeighborsClassifier(n_neighbors=6)\n",
    "classifier.fit(x_train, y_train)\n",
    "\n",
    "y_pred = classifier.predict(x_test)\n",
    "\n",
    "print('========== Test Features ============')\n",
    "print(x_test)\n",
    "\n",
    "print('============ Predicted Values ===========')\n",
    "print(y_pred)\n",
    "\n",
    "\n",
    "# ============ Evaluating the algorithm\n",
    "\n",
    "print(confusion_matrix(y_test, y_pred))\n",
    "print(classification_report(y_test, y_pred))\n",
    "\n",
    "print('\\n\\n============================   Comparing Error rate with different k value ============================= \\n\\n')\n",
    "\n",
    "error = []\n",
    "# Calculating error for K values between 1 and 10\n",
    "for i in range(1, 10):\n",
    "    knn = KNeighborsClassifier(n_neighbors=i)\n",
    "    knn.fit(x_train, y_train)\n",
    "    pred_i = knn.predict(x_test)\n",
    "    pred_i=pred_i.reshape(len(x_test),1)\n",
    "    error.append(np.mean(pred_i != y_test))\n",
    "    \n",
    "    \n",
    "plt.figure(figsize=(12, 6))\n",
    "plt.plot(range(1, 10), error, color='red', linestyle='dashed', marker='o',\n",
    "         markerfacecolor='blue', markersize=10)\n",
    "plt.title('Error Rate K Value')\n",
    "plt.xlabel('K Value')\n",
    "plt.ylabel('Mean Error')\n"
   ]
  },
  {
   "cell_type": "code",
   "execution_count": null,
   "metadata": {},
   "outputs": [],
   "source": []
  }
 ],
 "metadata": {
  "kernelspec": {
   "display_name": "Python 3",
   "language": "python",
   "name": "python3"
  },
  "language_info": {
   "codemirror_mode": {
    "name": "ipython",
    "version": 3
   },
   "file_extension": ".py",
   "mimetype": "text/x-python",
   "name": "python",
   "nbconvert_exporter": "python",
   "pygments_lexer": "ipython3",
   "version": "3.8.3"
  }
 },
 "nbformat": 4,
 "nbformat_minor": 4
}
